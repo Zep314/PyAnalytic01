{
 "cells": [
  {
   "cell_type": "markdown",
   "id": "51cdfd55",
   "metadata": {},
   "source": [
    "## Задача 1 ##\n",
    "### 1.1 Найдите картинке с интернете и приекрепите ее в ячейку с текстом ###"
   ]
  },
  {
   "cell_type": "markdown",
   "id": "e5a5daef",
   "metadata": {},
   "source": [
    "Случайная картинка с котиком\n",
    "<img src=\"https://cataas.com/cat/gif\" alt=\"Котики\">"
   ]
  },
  {
   "cell_type": "markdown",
   "id": "44881a14",
   "metadata": {},
   "source": [
    "### 1.2 Создайте таблицу в ячейке с текстом ###"
   ]
  },
  {
   "cell_type": "markdown",
   "id": "3a65c6fe",
   "metadata": {},
   "source": [
    "<table>\n",
    "    <tr>\n",
    "        <th>&nbsp;</td>        \n",
    "        <th>До события</td>\n",
    "        <th>Во время события</td>\n",
    "    </tr>\n",
    "    <tr>\n",
    "        <td>1 контрольная точка</td>\n",
    "        <td>250</td>\n",
    "        <td><b>500</b></td>\n",
    "    </tr>\n",
    "    <tr>\n",
    "        <td>2 контрольная точка</td>\n",
    "        <td>350</td>\n",
    "        <td><b>700</b></td>\n",
    "    </tr>\n",
    "    <tr>\n",
    "        <td>3 контрольная точка</td>\n",
    "        <td>400</td>\n",
    "        <td><b>800</b></td>\n",
    "    </tr>\n",
    "    <tr>\n",
    "        <td>Итого за победу</td>\n",
    "        <td>1000</td>\n",
    "        <td><b>2000</b></td>\n",
    "    </tr>\n",
    "</table>\n"
   ]
  },
  {
   "cell_type": "markdown",
   "id": "3adfc9e6",
   "metadata": {},
   "source": [
    "## Задача 2 ##\n",
    "###  2.1 На складе лежат разные фрукты в разном количестве. Нужно написать функцию, которая на вход принимает любое количество названий фруктов и их количество, а возвращает общее количество фруктов на складе ###"
   ]
  },
  {
   "cell_type": "code",
   "execution_count": 1,
   "id": "54148b8e",
   "metadata": {},
   "outputs": [
    {
     "data": {
      "text/plain": [
       "20"
      ]
     },
     "execution_count": 1,
     "metadata": {},
     "output_type": "execute_result"
    }
   ],
   "source": [
    "def FruitAmount(**kwargs) -> int: return sum(kwargs.values())\n",
    "FruitAmount(banana=5, mango=7,apple=8)"
   ]
  },
  {
   "cell_type": "markdown",
   "id": "a5d98f49",
   "metadata": {},
   "source": [
    "## Задача 3 ##\n",
    "### 3.1 Дан список с затратами на рекламу. Но в данных есть ошибки, некоторые затраты имеют отрицательную величину. Удалите такие значения из списка, и посчитайте суммарные затраты ###\n",
    "\\[100, 125, -90, 345, 655, -1, 0, 200]\n",
    "\n",
    "Используйте list comprehensions"
   ]
  },
  {
   "cell_type": "code",
   "execution_count": 2,
   "id": "a977ab17",
   "metadata": {},
   "outputs": [
    {
     "data": {
      "text/plain": [
       "1425"
      ]
     },
     "execution_count": 2,
     "metadata": {},
     "output_type": "execute_result"
    }
   ],
   "source": [
    "def MySumm(local_list: list) -> int: return sum([i for i in local_list if i > 0])\n",
    "MySumm([100, 125, -90, 345, 655, -1, 0, 200])"
   ]
  },
  {
   "cell_type": "markdown",
   "id": "e468673d",
   "metadata": {},
   "source": [
    "## Задача 4 ##\n",
    "### Даны два списка ###\n",
    "#### Дата покупки ####\n",
    "\n",
    "\\['2021-09-14', '2021-12-15', '2021-09-08', '2021-12-05', '2021-10-09', '2021-09-30', '2021-12-22', '2021-11-29', '2021-12-24', '2021-11-26', '2021-10-27', '2021-12-18', '2021-11-09', '2021-11-23', '2021-09-27', '2021-10-02', '2021-12-27', '2021-09-20', '2021-12-13', '2021-11-01', '2021-11-09', '2021-12-06', '2021-12-08', '2021-10-09', '2021-10-31', '2021-09-30', '2021-11-09', '2021-12-13', '2021-10-26', '2021-12-09']\n",
    "\n",
    "#### Суммы покупок по датам ####\n",
    "\\[1270, 8413, 9028, 3703, 5739, 4095, 295, 4944, 5723, 3701, 4471, 651, 7037, 4274, 6275, 4988, 6930, 2971, 6592, 2004, 2822, 519, 3406, 2732, 5015, 2008, 316, 6333, 5700, 2887]\n",
    "\n",
    "### 4.1 Найдите, какая выручка у компании в ноябре ###\n",
    "\n",
    "Используйте list comprehensions"
   ]
  },
  {
   "cell_type": "code",
   "execution_count": 3,
   "id": "1bcf79a3",
   "metadata": {},
   "outputs": [],
   "source": [
    "dates = ['2021-09-14', '2021-12-15', '2021-09-08', '2021-12-05', '2021-10-09', '2021-09-30', '2021-12-22',\n",
    "         '2021-11-29', '2021-12-24', '2021-11-26', '2021-10-27', '2021-12-18', '2021-11-09', '2021-11-23', \n",
    "         '2021-09-27', '2021-10-02', '2021-12-27', '2021-09-20', '2021-12-13', '2021-11-01', '2021-11-09', \n",
    "         '2021-12-06', '2021-12-08', '2021-10-09', '2021-10-31', '2021-09-30', '2021-11-09', '2021-12-13', \n",
    "         '2021-10-26', '2021-12-09']\n",
    "summs = [1270, 8413, 9028, 3703, 5739, 4095, 295, 4944, 5723, 3701, 4471, 651, 7037, 4274, 6275, \n",
    "         4988, 6930, 2971, 6592, 2004, 2822, 519, 3406, 2732, 5015, 2008, 316, 6333, 5700, 2887]\n"
   ]
  },
  {
   "cell_type": "code",
   "execution_count": 4,
   "id": "dab169ee",
   "metadata": {},
   "outputs": [
    {
     "data": {
      "text/plain": [
       "23094"
      ]
     },
     "execution_count": 4,
     "metadata": {},
     "output_type": "execute_result"
    }
   ],
   "source": [
    "import pandas as pd\n",
    "my_df = pd.DataFrame({'date':dates, 'revenue':summs})\n",
    "my_df['date'] = pd.to_datetime(my_df['date'])\n",
    "#my_df.head()\n",
    "#my_df.info()\n",
    "mask = (my_df['date'] > '2021-11-01') & (my_df['date'] <= '2021-11-30')\n",
    "my_df.loc[mask]['revenue'].sum()"
   ]
  },
  {
   "cell_type": "markdown",
   "id": "9d750593",
   "metadata": {},
   "source": [
    "### 4.2 Найдите выручку компании в зависимости от месяца ###\n",
    "\n",
    "Для этого напишите функцию, которая на вход принимает список с датами и список с выручкой, а на выходе словарь, где ключи - это месяцы, а значения - это выручка. \n",
    "\n",
    "Используйте аннотирование типов."
   ]
  },
  {
   "cell_type": "code",
   "execution_count": 5,
   "id": "29c10674",
   "metadata": {},
   "outputs": [
    {
     "data": {
      "text/plain": [
       "date\n",
       "September    25647\n",
       "October      28645\n",
       "November     25098\n",
       "December     45452\n",
       "Name: revenue, dtype: int64"
      ]
     },
     "execution_count": 5,
     "metadata": {},
     "output_type": "execute_result"
    }
   ],
   "source": [
    "my_df.groupby(my_df['date'].dt.strftime('%B'))['revenue'].sum().sort_index(ascending=False)"
   ]
  }
 ],
 "metadata": {
  "kernelspec": {
   "display_name": "Python 3 (ipykernel)",
   "language": "python",
   "name": "python3"
  },
  "language_info": {
   "codemirror_mode": {
    "name": "ipython",
    "version": 3
   },
   "file_extension": ".py",
   "mimetype": "text/x-python",
   "name": "python",
   "nbconvert_exporter": "python",
   "pygments_lexer": "ipython3",
   "version": "3.9.12"
  }
 },
 "nbformat": 4,
 "nbformat_minor": 5
}
